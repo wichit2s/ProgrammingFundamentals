{
 "cells": [
  {
   "cell_type": "markdown",
   "metadata": {},
   "source": [
    "# Week 01 Computers and Programs\n",
    "\n",
    "## จุดประสงค์\n",
    "1. เข้าใจการทำงานของโปรแกรมที่เขียนด้วยภาษา Python\n",
    "  * สร้าง แก้ไข และ run โปรแกรมบน spyder ได้\n",
    "  * เขียนคำสั่งบน ipython ได้\n",
    "  * สร้าง jupyter notebook ได้\n",
    "  * เขียนคำสั่งและ run บน notebook ได้\n",
    "2. เขียนโปรแกรมเพื่อแสดงข้อความ \"สวัสดีชาวโลก\" ได้\n",
    "3. เขียนโปรแกรมเพื่อรับชื่อและแสดงข้อความ \"สวัสดีคุณชื่อ\" ได้"
   ]
  },
  {
   "cell_type": "markdown",
   "metadata": {},
   "source": [
    "## Computer Hardware\n",
    "![hardware](images/hardware.png)"
   ]
  },
  {
   "cell_type": "markdown",
   "metadata": {},
   "source": [
    "## Compiled Programming Languages\n",
    "![compile-program](images/compiled-program.png)\n",
    "\n",
    "\n",
    "## ตัวอย่างภาษาโปรแกรมที่เป็นแบบ Compiled\n",
    "* C\n",
    "* C++\n",
    "* D\n",
    "* Java\n",
    "* Swift\n",
    "* Rust"
   ]
  },
  {
   "cell_type": "markdown",
   "metadata": {},
   "source": [
    "# Interpreted Program\n",
    "![interpreted-program](images/interpreted-program.png)\n",
    "\n",
    "## ตัวอย่างภาษาโปรแกรมที่เป็น interpreted\n",
    "* Python\n",
    "* TypeScript\n",
    "* JavaScript\n",
    "* PHP\n",
    "* R\n",
    "* Lisp"
   ]
  },
  {
   "cell_type": "markdown",
   "metadata": {},
   "source": [
    "## เริ่มการเขียนคำสั่ง\n",
    "\n",
    "* คำสั่งสำหรับนำเข้าชุดคำสั่ง sys เพื่อเรียกใช้ฟังก์ชัน version เพื่อดูรายละเอียดของ Python\n",
    "```python\n",
    "import sys\n",
    "sys.version\n",
    "```"
   ]
  },
  {
   "cell_type": "code",
   "execution_count": null,
   "metadata": {},
   "outputs": [],
   "source": []
  },
  {
   "cell_type": "markdown",
   "metadata": {},
   "source": [
    "* คำสั่งแสดงข้อความบนหน้าจอ\n",
    "```python\n",
    "print('ข้อความ')\n",
    "```\n",
    "\n",
    "* ตัวอย่างคำสั่งแสดงข้อความอื่นๆ\n",
    "```python\n",
    "print('Hello world')\n",
    "print('สวัสดีชาวโลก')\n",
    "```"
   ]
  },
  {
   "cell_type": "code",
   "execution_count": null,
   "metadata": {},
   "outputs": [],
   "source": []
  },
  {
   "cell_type": "markdown",
   "metadata": {},
   "source": [
    "* __Exercise 01.1__ จงเขียนคำสั่งเพื่อแสดงชื่อของตัวเอง เป็นภาษาไทย\n",
    "\n",
    "* __Exercise 01.2__ จงเขียนคำสั่งเพื่อแสดงชื่อเล่น\n",
    "\n",
    "* __Exercise 01.3__ จงเขียนคำสั่งเพื่อแสดงชื่อของตัวเอง เป็นภาษาอังกฤษ\n",
    "\n",
    "* __Exercise 01.4__ ลองเขียนคำสั่งเพื่อแสดง email ของตัวเอง\n"
   ]
  },
  {
   "cell_type": "code",
   "execution_count": null,
   "metadata": {},
   "outputs": [],
   "source": []
  },
  {
   "cell_type": "markdown",
   "metadata": {},
   "source": [
    "## การแสดงผลการคำนวณเบื้องต้น\n",
    "* คำสั่งแสดงผลบวก\n",
    "```python\n",
    "print(2+3)\n",
    "```\n",
    "* คำสั่งแสดงผลลบ\n",
    "```python\n",
    "print(2561-543)\n",
    "```\n",
    "* คำสั่งแสดงผลคูณ\n",
    "```python\n",
    "print(9*1024)\n",
    "```\n",
    "* คำสั่งแสดงผลหาร\n",
    "```python\n",
    "print(1024/7)\n",
    "```\n",
    "* คำสั่งแสดงผลยกกำลัง\n",
    "```python\n",
    "print(10**2)\n",
    "print(2**10)\n",
    "```\n",
    "* คำสั่งแสดงผลค่ารากที่สองตัวเลข\n",
    "```python\n",
    "print(100**0.5)\n",
    "```\n",
    "* คำสั่งแสดงผลของสมการที่ซับซ้อนขึ้น\n",
    "```python\n",
    "print( (2*3 + 3*3 + 1*3 + 2*3 + 2*3)/(3+3+3+3) )\n",
    "```"
   ]
  },
  {
   "cell_type": "code",
   "execution_count": null,
   "metadata": {},
   "outputs": [],
   "source": []
  },
  {
   "cell_type": "code",
   "execution_count": null,
   "metadata": {},
   "outputs": [],
   "source": []
  },
  {
   "cell_type": "code",
   "execution_count": null,
   "metadata": {},
   "outputs": [],
   "source": []
  },
  {
   "cell_type": "markdown",
   "metadata": {},
   "source": [
    "## Note:\n",
    "1. การตั้งชื่อแทน name เวลาจะใช้ชื่อใหม่มีกฏการตั้งชื่ออย่างไร?\n",
    "__Answer:__  ชื่อ(ตัวแปร)เช่น name นี้เรียกอีกอย่างว่า identifier กฏการเขียน identifiers สามารถสรุปได้ 5 ข้อดังนี้\n",
    "  * เป็นลำดับของตัวอักษรติดกันแต่ละอันสามารถใช้ a-z, A-Z, 0-9, _   โดยไม่จำกัดความยาว\n",
    "  * ตัวแรกต้องไม่เป็นตัวเลข\n",
    "  * ต้องไม่เป็น keywords (คำสงวน)\n",
    "  * ต้องไม่เป็นค่า literals\n",
    "\n",
    "2. Keyword ในภาษา Python มีอะไรบ้าง?\n",
    "__Answer:__ \n",
    "```python\n",
    "False      class      finally    is         return\n",
    "None       continue   for        lambda     try\n",
    "True       def        from       nonlocal   while\n",
    "and        del        global     not        with\n",
    "as         elif       if         or         yield\n",
    "assert     else       import     pass\n",
    "break      except     in         raise\n",
    "```\n",
    "\n",
    "3. ค่า Literals คืออะไร?\n",
    "__Answer:__  Literals คือลำดับของตัวอักษรติดกันที่ Python สามารถแปลงเป็นค่าหรือข้อมูลได้ทันที เช่น 2560, “Paul” เป็นต้น"
   ]
  },
  {
   "cell_type": "code",
   "execution_count": null,
   "metadata": {},
   "outputs": [],
   "source": []
  }
 ],
 "metadata": {
  "kernelspec": {
   "display_name": "Python 3",
   "language": "python",
   "name": "python3"
  },
  "language_info": {
   "codemirror_mode": {
    "name": "ipython",
    "version": 3
   },
   "file_extension": ".py",
   "mimetype": "text/x-python",
   "name": "python",
   "nbconvert_exporter": "python",
   "pygments_lexer": "ipython3",
   "version": "3.6.5"
  }
 },
 "nbformat": 4,
 "nbformat_minor": 2
}
